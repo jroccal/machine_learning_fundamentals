{
 "cells": [
  {
   "cell_type": "code",
   "execution_count": 2,
   "id": "2d2cb0e8",
   "metadata": {},
   "outputs": [],
   "source": [
    "import sys\n",
    "sys.path.append('../')\n",
    "path_data = '/home/jaime/projects/Dropbox_project/projects/kaggle/Housing_prices_course/data/'"
   ]
  },
  {
   "cell_type": "code",
   "execution_count": 23,
   "id": "5c058bf6",
   "metadata": {},
   "outputs": [],
   "source": [
    "import numpy as np\n",
    "import pandas as pd\n",
    "\n",
    "import matplotlib.pyplot as plt\n",
    "import seaborn as sns\n",
    "\n",
    "from sklearn.model_selection import train_test_split\n",
    "from sklearn.model_selection import KFold\n",
    "\n",
    "from sklearn.linear_model import LinearRegression\n",
    "from sklearn.metrics import mean_squared_error, mean_squared_log_error\n",
    "from sklearn.metrics import mean_absolute_percentage_error, make_scorer\n",
    "from sklearn.model_selection import cross_val_score, cross_validate\n",
    "\n",
    "from sklearn.preprocessing import PolynomialFeatures\n",
    "from sklearn.preprocessing import SplineTransformer\n",
    "\n",
    "from sklearn.preprocessing import MinMaxScaler\n",
    "from sklearn.preprocessing import StandardScaler\n",
    "\n",
    "import warnings\n",
    "import importlib\n",
    "warnings.filterwarnings('ignore')\n",
    "%matplotlib inline"
   ]
  },
  {
   "cell_type": "code",
   "execution_count": 71,
   "id": "afc8ab34",
   "metadata": {},
   "outputs": [],
   "source": [
    "def type_and_nulls(df):\n",
    "    df_type = pd.concat([pd.DataFrame(df.dtypes), df.isnull().sum().to_frame().rename(columns={0:'nulls'})], axis=1)\n",
    "    display(df_type.head())\n",
    "    display(df.dtypes.value_counts())\n",
    "    not_nulls = list((df_type[df_type['nulls']==0]).index)\n",
    "    nulls = list((df_type[df_type['nulls']>0]).index)\n",
    "    \n",
    "    dict_type_columns = {}\n",
    "    for type_column in list(df.dtypes.value_counts().index):\n",
    "        dict_type_columns[str(type_column)] = list(df_type[df_type[0] == type_column].index)\n",
    "    \n",
    "    print('Nulls features: ', len(nulls))\n",
    "    print('Not null features: ', len(not_nulls))\n",
    "    \n",
    "    dict_type_columns['nulls'] = nulls\n",
    "    dict_type_columns['not_nulls'] = not_nulls\n",
    "    \n",
    "    \n",
    "    return dict_type_columns, df_type\n",
    "\n",
    "\n",
    "def correlation_heatmap(df, columns, figsize=(12, 9), plot=False):\n",
    "    corrmat = df[columns].corr()\n",
    "    sorted_columns = corrmat.sum(axis=1).sort_values().index.values\n",
    "    corrmat = corrmat.loc[sorted_columns][sorted_columns]\n",
    "    if plot:\n",
    "        f, ax = plt.subplots(figsize=figsize)\n",
    "        sns.heatmap(corrmat, vmax=.8, square=True)\n",
    "    return corrmat\n",
    "\n",
    "def polynomial_transformations(df_train, columns, degree=2, scale_method=None):\n",
    "    if scale_method is not None:\n",
    "        df_train, df_val = apply_scale(df_train[columns], df_val[columns], scale_method)\n",
    "    poly_trans = PolynomialFeatures(degree=degree)\n",
    "    df_result_train = pd.DataFrame(poly_trans.fit_transform(df_train[columns]))\n",
    "        \n",
    "    df_result_train.columns = poly_trans.get_feature_names_out()\n",
    "    \n",
    "    return df_result_train"
   ]
  },
  {
   "cell_type": "code",
   "execution_count": 5,
   "id": "9597bf39",
   "metadata": {},
   "outputs": [],
   "source": [
    "df_train = pd.read_csv(path_data+'train.csv', index_col='Id')\n",
    "df_test = pd.read_csv(path_data+'test.csv', index_col='Id')"
   ]
  },
  {
   "cell_type": "code",
   "execution_count": 6,
   "id": "4af3e640",
   "metadata": {},
   "outputs": [
    {
     "data": {
      "text/html": [
       "<div>\n",
       "<style scoped>\n",
       "    .dataframe tbody tr th:only-of-type {\n",
       "        vertical-align: middle;\n",
       "    }\n",
       "\n",
       "    .dataframe tbody tr th {\n",
       "        vertical-align: top;\n",
       "    }\n",
       "\n",
       "    .dataframe thead th {\n",
       "        text-align: right;\n",
       "    }\n",
       "</style>\n",
       "<table border=\"1\" class=\"dataframe\">\n",
       "  <thead>\n",
       "    <tr style=\"text-align: right;\">\n",
       "      <th></th>\n",
       "      <th>0</th>\n",
       "      <th>nulls</th>\n",
       "    </tr>\n",
       "  </thead>\n",
       "  <tbody>\n",
       "    <tr>\n",
       "      <th>MSSubClass</th>\n",
       "      <td>int64</td>\n",
       "      <td>0</td>\n",
       "    </tr>\n",
       "    <tr>\n",
       "      <th>MSZoning</th>\n",
       "      <td>object</td>\n",
       "      <td>0</td>\n",
       "    </tr>\n",
       "    <tr>\n",
       "      <th>LotFrontage</th>\n",
       "      <td>float64</td>\n",
       "      <td>259</td>\n",
       "    </tr>\n",
       "    <tr>\n",
       "      <th>LotArea</th>\n",
       "      <td>int64</td>\n",
       "      <td>0</td>\n",
       "    </tr>\n",
       "    <tr>\n",
       "      <th>Street</th>\n",
       "      <td>object</td>\n",
       "      <td>0</td>\n",
       "    </tr>\n",
       "  </tbody>\n",
       "</table>\n",
       "</div>"
      ],
      "text/plain": [
       "                   0  nulls\n",
       "MSSubClass     int64      0\n",
       "MSZoning      object      0\n",
       "LotFrontage  float64    259\n",
       "LotArea        int64      0\n",
       "Street        object      0"
      ]
     },
     "metadata": {},
     "output_type": "display_data"
    },
    {
     "data": {
      "text/plain": [
       "object     43\n",
       "int64      34\n",
       "float64     3\n",
       "dtype: int64"
      ]
     },
     "metadata": {},
     "output_type": "display_data"
    },
    {
     "name": "stdout",
     "output_type": "stream",
     "text": [
      "Nulls features:  19\n",
      "Not null features:  61\n"
     ]
    }
   ],
   "source": [
    "dict_type_columns, df_type = type_and_nulls(df_train)"
   ]
  },
  {
   "cell_type": "code",
   "execution_count": 7,
   "id": "1f20bdf5",
   "metadata": {},
   "outputs": [
    {
     "name": "stdout",
     "output_type": "stream",
     "text": [
      "SalePrice\n",
      "33 ['YearRemodAdd', 'MoSold', 'GrLivArea', 'BsmtFullBath', 'BsmtHalfBath', 'TotalBsmtSF', 'WoodDeckSF', 'TotRmsAbvGrd', 'MiscVal', 'LowQualFinSF', 'OpenPorchSF', 'EnclosedPorch', 'FullBath', 'HalfBath', 'LotArea', 'GarageCars', 'OverallCond', 'PoolArea', 'Fireplaces', 'OverallQual', 'ScreenPorch', '1stFlrSF', '2ndFlrSF', 'MSSubClass', 'BsmtUnfSF', 'YrSold', '3SsnPorch', 'BedroomAbvGr', 'BsmtFinSF2', 'KitchenAbvGr', 'GarageArea', 'YearBuilt', 'BsmtFinSF1']\n"
     ]
    }
   ],
   "source": [
    "numerical_features_not_null = set(dict_type_columns['int64'] + dict_type_columns['float64']) - set(dict_type_columns['nulls'])\n",
    "numerical_features_not_null = list(numerical_features_not_null)\n",
    "target = numerical_features_not_null.pop(numerical_features_not_null.index('SalePrice'))\n",
    "len(numerical_features_not_null)\n",
    "print(target)\n",
    "print(len(numerical_features_not_null), numerical_features_not_null)"
   ]
  },
  {
   "cell_type": "code",
   "execution_count": 8,
   "id": "2e580753",
   "metadata": {},
   "outputs": [
    {
     "data": {
      "text/html": [
       "<div>\n",
       "<style scoped>\n",
       "    .dataframe tbody tr th:only-of-type {\n",
       "        vertical-align: middle;\n",
       "    }\n",
       "\n",
       "    .dataframe tbody tr th {\n",
       "        vertical-align: top;\n",
       "    }\n",
       "\n",
       "    .dataframe thead th {\n",
       "        text-align: right;\n",
       "    }\n",
       "</style>\n",
       "<table border=\"1\" class=\"dataframe\">\n",
       "  <thead>\n",
       "    <tr style=\"text-align: right;\">\n",
       "      <th></th>\n",
       "      <th>YearRemodAdd</th>\n",
       "      <th>MoSold</th>\n",
       "      <th>GrLivArea</th>\n",
       "      <th>BsmtFullBath</th>\n",
       "      <th>BsmtHalfBath</th>\n",
       "      <th>TotalBsmtSF</th>\n",
       "      <th>WoodDeckSF</th>\n",
       "      <th>TotRmsAbvGrd</th>\n",
       "      <th>MiscVal</th>\n",
       "      <th>LowQualFinSF</th>\n",
       "      <th>...</th>\n",
       "      <th>MSSubClass</th>\n",
       "      <th>BsmtUnfSF</th>\n",
       "      <th>YrSold</th>\n",
       "      <th>3SsnPorch</th>\n",
       "      <th>BedroomAbvGr</th>\n",
       "      <th>BsmtFinSF2</th>\n",
       "      <th>KitchenAbvGr</th>\n",
       "      <th>GarageArea</th>\n",
       "      <th>YearBuilt</th>\n",
       "      <th>BsmtFinSF1</th>\n",
       "    </tr>\n",
       "  </thead>\n",
       "  <tbody>\n",
       "    <tr>\n",
       "      <th>count</th>\n",
       "      <td>1460.000000</td>\n",
       "      <td>1460.000000</td>\n",
       "      <td>1460.000000</td>\n",
       "      <td>1460.000000</td>\n",
       "      <td>1460.000000</td>\n",
       "      <td>1460.000000</td>\n",
       "      <td>1460.000000</td>\n",
       "      <td>1460.000000</td>\n",
       "      <td>1460.000000</td>\n",
       "      <td>1460.000000</td>\n",
       "      <td>...</td>\n",
       "      <td>1460.000000</td>\n",
       "      <td>1460.000000</td>\n",
       "      <td>1460.000000</td>\n",
       "      <td>1460.000000</td>\n",
       "      <td>1460.000000</td>\n",
       "      <td>1460.000000</td>\n",
       "      <td>1460.000000</td>\n",
       "      <td>1460.000000</td>\n",
       "      <td>1460.000000</td>\n",
       "      <td>1460.000000</td>\n",
       "    </tr>\n",
       "    <tr>\n",
       "      <th>mean</th>\n",
       "      <td>1984.865753</td>\n",
       "      <td>6.321918</td>\n",
       "      <td>1515.463699</td>\n",
       "      <td>0.425342</td>\n",
       "      <td>0.057534</td>\n",
       "      <td>1057.429452</td>\n",
       "      <td>94.244521</td>\n",
       "      <td>6.517808</td>\n",
       "      <td>43.489041</td>\n",
       "      <td>5.844521</td>\n",
       "      <td>...</td>\n",
       "      <td>56.897260</td>\n",
       "      <td>567.240411</td>\n",
       "      <td>2007.815753</td>\n",
       "      <td>3.409589</td>\n",
       "      <td>2.866438</td>\n",
       "      <td>46.549315</td>\n",
       "      <td>1.046575</td>\n",
       "      <td>472.980137</td>\n",
       "      <td>1971.267808</td>\n",
       "      <td>443.639726</td>\n",
       "    </tr>\n",
       "    <tr>\n",
       "      <th>std</th>\n",
       "      <td>20.645407</td>\n",
       "      <td>2.703626</td>\n",
       "      <td>525.480383</td>\n",
       "      <td>0.518911</td>\n",
       "      <td>0.238753</td>\n",
       "      <td>438.705324</td>\n",
       "      <td>125.338794</td>\n",
       "      <td>1.625393</td>\n",
       "      <td>496.123024</td>\n",
       "      <td>48.623081</td>\n",
       "      <td>...</td>\n",
       "      <td>42.300571</td>\n",
       "      <td>441.866955</td>\n",
       "      <td>1.328095</td>\n",
       "      <td>29.317331</td>\n",
       "      <td>0.815778</td>\n",
       "      <td>161.319273</td>\n",
       "      <td>0.220338</td>\n",
       "      <td>213.804841</td>\n",
       "      <td>30.202904</td>\n",
       "      <td>456.098091</td>\n",
       "    </tr>\n",
       "    <tr>\n",
       "      <th>min</th>\n",
       "      <td>1950.000000</td>\n",
       "      <td>1.000000</td>\n",
       "      <td>334.000000</td>\n",
       "      <td>0.000000</td>\n",
       "      <td>0.000000</td>\n",
       "      <td>0.000000</td>\n",
       "      <td>0.000000</td>\n",
       "      <td>2.000000</td>\n",
       "      <td>0.000000</td>\n",
       "      <td>0.000000</td>\n",
       "      <td>...</td>\n",
       "      <td>20.000000</td>\n",
       "      <td>0.000000</td>\n",
       "      <td>2006.000000</td>\n",
       "      <td>0.000000</td>\n",
       "      <td>0.000000</td>\n",
       "      <td>0.000000</td>\n",
       "      <td>0.000000</td>\n",
       "      <td>0.000000</td>\n",
       "      <td>1872.000000</td>\n",
       "      <td>0.000000</td>\n",
       "    </tr>\n",
       "    <tr>\n",
       "      <th>25%</th>\n",
       "      <td>1967.000000</td>\n",
       "      <td>5.000000</td>\n",
       "      <td>1129.500000</td>\n",
       "      <td>0.000000</td>\n",
       "      <td>0.000000</td>\n",
       "      <td>795.750000</td>\n",
       "      <td>0.000000</td>\n",
       "      <td>5.000000</td>\n",
       "      <td>0.000000</td>\n",
       "      <td>0.000000</td>\n",
       "      <td>...</td>\n",
       "      <td>20.000000</td>\n",
       "      <td>223.000000</td>\n",
       "      <td>2007.000000</td>\n",
       "      <td>0.000000</td>\n",
       "      <td>2.000000</td>\n",
       "      <td>0.000000</td>\n",
       "      <td>1.000000</td>\n",
       "      <td>334.500000</td>\n",
       "      <td>1954.000000</td>\n",
       "      <td>0.000000</td>\n",
       "    </tr>\n",
       "    <tr>\n",
       "      <th>50%</th>\n",
       "      <td>1994.000000</td>\n",
       "      <td>6.000000</td>\n",
       "      <td>1464.000000</td>\n",
       "      <td>0.000000</td>\n",
       "      <td>0.000000</td>\n",
       "      <td>991.500000</td>\n",
       "      <td>0.000000</td>\n",
       "      <td>6.000000</td>\n",
       "      <td>0.000000</td>\n",
       "      <td>0.000000</td>\n",
       "      <td>...</td>\n",
       "      <td>50.000000</td>\n",
       "      <td>477.500000</td>\n",
       "      <td>2008.000000</td>\n",
       "      <td>0.000000</td>\n",
       "      <td>3.000000</td>\n",
       "      <td>0.000000</td>\n",
       "      <td>1.000000</td>\n",
       "      <td>480.000000</td>\n",
       "      <td>1973.000000</td>\n",
       "      <td>383.500000</td>\n",
       "    </tr>\n",
       "    <tr>\n",
       "      <th>75%</th>\n",
       "      <td>2004.000000</td>\n",
       "      <td>8.000000</td>\n",
       "      <td>1776.750000</td>\n",
       "      <td>1.000000</td>\n",
       "      <td>0.000000</td>\n",
       "      <td>1298.250000</td>\n",
       "      <td>168.000000</td>\n",
       "      <td>7.000000</td>\n",
       "      <td>0.000000</td>\n",
       "      <td>0.000000</td>\n",
       "      <td>...</td>\n",
       "      <td>70.000000</td>\n",
       "      <td>808.000000</td>\n",
       "      <td>2009.000000</td>\n",
       "      <td>0.000000</td>\n",
       "      <td>3.000000</td>\n",
       "      <td>0.000000</td>\n",
       "      <td>1.000000</td>\n",
       "      <td>576.000000</td>\n",
       "      <td>2000.000000</td>\n",
       "      <td>712.250000</td>\n",
       "    </tr>\n",
       "    <tr>\n",
       "      <th>max</th>\n",
       "      <td>2010.000000</td>\n",
       "      <td>12.000000</td>\n",
       "      <td>5642.000000</td>\n",
       "      <td>3.000000</td>\n",
       "      <td>2.000000</td>\n",
       "      <td>6110.000000</td>\n",
       "      <td>857.000000</td>\n",
       "      <td>14.000000</td>\n",
       "      <td>15500.000000</td>\n",
       "      <td>572.000000</td>\n",
       "      <td>...</td>\n",
       "      <td>190.000000</td>\n",
       "      <td>2336.000000</td>\n",
       "      <td>2010.000000</td>\n",
       "      <td>508.000000</td>\n",
       "      <td>8.000000</td>\n",
       "      <td>1474.000000</td>\n",
       "      <td>3.000000</td>\n",
       "      <td>1418.000000</td>\n",
       "      <td>2010.000000</td>\n",
       "      <td>5644.000000</td>\n",
       "    </tr>\n",
       "  </tbody>\n",
       "</table>\n",
       "<p>8 rows × 33 columns</p>\n",
       "</div>"
      ],
      "text/plain": [
       "       YearRemodAdd       MoSold    GrLivArea  BsmtFullBath  BsmtHalfBath  \\\n",
       "count   1460.000000  1460.000000  1460.000000   1460.000000   1460.000000   \n",
       "mean    1984.865753     6.321918  1515.463699      0.425342      0.057534   \n",
       "std       20.645407     2.703626   525.480383      0.518911      0.238753   \n",
       "min     1950.000000     1.000000   334.000000      0.000000      0.000000   \n",
       "25%     1967.000000     5.000000  1129.500000      0.000000      0.000000   \n",
       "50%     1994.000000     6.000000  1464.000000      0.000000      0.000000   \n",
       "75%     2004.000000     8.000000  1776.750000      1.000000      0.000000   \n",
       "max     2010.000000    12.000000  5642.000000      3.000000      2.000000   \n",
       "\n",
       "       TotalBsmtSF   WoodDeckSF  TotRmsAbvGrd       MiscVal  LowQualFinSF  \\\n",
       "count  1460.000000  1460.000000   1460.000000   1460.000000   1460.000000   \n",
       "mean   1057.429452    94.244521      6.517808     43.489041      5.844521   \n",
       "std     438.705324   125.338794      1.625393    496.123024     48.623081   \n",
       "min       0.000000     0.000000      2.000000      0.000000      0.000000   \n",
       "25%     795.750000     0.000000      5.000000      0.000000      0.000000   \n",
       "50%     991.500000     0.000000      6.000000      0.000000      0.000000   \n",
       "75%    1298.250000   168.000000      7.000000      0.000000      0.000000   \n",
       "max    6110.000000   857.000000     14.000000  15500.000000    572.000000   \n",
       "\n",
       "       ...   MSSubClass    BsmtUnfSF       YrSold    3SsnPorch  BedroomAbvGr  \\\n",
       "count  ...  1460.000000  1460.000000  1460.000000  1460.000000   1460.000000   \n",
       "mean   ...    56.897260   567.240411  2007.815753     3.409589      2.866438   \n",
       "std    ...    42.300571   441.866955     1.328095    29.317331      0.815778   \n",
       "min    ...    20.000000     0.000000  2006.000000     0.000000      0.000000   \n",
       "25%    ...    20.000000   223.000000  2007.000000     0.000000      2.000000   \n",
       "50%    ...    50.000000   477.500000  2008.000000     0.000000      3.000000   \n",
       "75%    ...    70.000000   808.000000  2009.000000     0.000000      3.000000   \n",
       "max    ...   190.000000  2336.000000  2010.000000   508.000000      8.000000   \n",
       "\n",
       "        BsmtFinSF2  KitchenAbvGr   GarageArea    YearBuilt   BsmtFinSF1  \n",
       "count  1460.000000   1460.000000  1460.000000  1460.000000  1460.000000  \n",
       "mean     46.549315      1.046575   472.980137  1971.267808   443.639726  \n",
       "std     161.319273      0.220338   213.804841    30.202904   456.098091  \n",
       "min       0.000000      0.000000     0.000000  1872.000000     0.000000  \n",
       "25%       0.000000      1.000000   334.500000  1954.000000     0.000000  \n",
       "50%       0.000000      1.000000   480.000000  1973.000000   383.500000  \n",
       "75%       0.000000      1.000000   576.000000  2000.000000   712.250000  \n",
       "max    1474.000000      3.000000  1418.000000  2010.000000  5644.000000  \n",
       "\n",
       "[8 rows x 33 columns]"
      ]
     },
     "execution_count": 8,
     "metadata": {},
     "output_type": "execute_result"
    }
   ],
   "source": [
    "df_train[numerical_features_not_null].describe()"
   ]
  },
  {
   "cell_type": "code",
   "execution_count": 189,
   "id": "4808020f",
   "metadata": {},
   "outputs": [
    {
     "data": {
      "text/plain": [
       "((876, 33), (876,), (584, 33), (584,))"
      ]
     },
     "execution_count": 189,
     "metadata": {},
     "output_type": "execute_result"
    }
   ],
   "source": [
    "target = 'SalePrice'\n",
    "\n",
    "## Split training and test datasets\n",
    "x_train, x_test = train_test_split(df_train[numerical_features_not_null+[target]], test_size=0.4, random_state=0)\n",
    "y_train = x_train.pop(target)\n",
    "y_test = x_test.pop(target)\n",
    "\n",
    "x_train.shape, y_train.shape, x_test.shape, y_test.shape"
   ]
  },
  {
   "cell_type": "code",
   "execution_count": 192,
   "id": "e9003fac",
   "metadata": {},
   "outputs": [
    {
     "data": {
      "text/plain": [
       "((876, 33), (876,), (584, 33), (584,))"
      ]
     },
     "execution_count": 192,
     "metadata": {},
     "output_type": "execute_result"
    }
   ],
   "source": [
    "scaler = StandardScaler()\n",
    "\n",
    "x_train = pd.DataFrame(scaler.fit_transform(x_train), index=x_train.index)\n",
    "x_train.columns = numerical_features_not_null\n",
    "\n",
    "x_test = pd.DataFrame(scaler.transform(x_test), index=x_test.index)\n",
    "x_test.columns = numerical_features_not_null   \n",
    "\n",
    "x_train.shape, y_train.shape, x_test.shape, y_test.shape"
   ]
  },
  {
   "cell_type": "code",
   "execution_count": null,
   "id": "fb9cdeb1",
   "metadata": {},
   "outputs": [],
   "source": []
  },
  {
   "cell_type": "code",
   "execution_count": 195,
   "id": "2ea13d26",
   "metadata": {},
   "outputs": [
    {
     "data": {
      "text/plain": [
       "OverallQual    0.789707\n",
       "GrLivArea      0.727386\n",
       "GarageCars     0.647622\n",
       "GarageArea     0.643518\n",
       "TotalBsmtSF    0.633855\n",
       "Name: SalePrice, dtype: float64"
      ]
     },
     "execution_count": 195,
     "metadata": {},
     "output_type": "execute_result"
    }
   ],
   "source": [
    "## computing correlation\n",
    "num_best_features = 5\n",
    "corr_target = correlation_heatmap(pd.concat([x_train, pd.DataFrame(y_train)], axis=1), \n",
    "                                  pd.concat([x_train, pd.DataFrame(y_train)], axis=1).columns)\n",
    "high_corr_features_exp_1 = list(corr_target[target].sort_values(ascending=False)[1:num_best_features+1].index)\n",
    "corr_target[target].sort_values(ascending=False)[1:num_best_features+1]"
   ]
  },
  {
   "cell_type": "code",
   "execution_count": 257,
   "id": "13616755",
   "metadata": {},
   "outputs": [],
   "source": [
    "## final model experiment_1\n",
    "list_metrics = [] \n",
    "for num_best_features in np.arange(1, x_train.shape[1]+1, 1):\n",
    "\n",
    "    corr_target = correlation_heatmap(pd.concat([x_train, pd.DataFrame(y_train)], axis=1), \n",
    "                                      pd.concat([x_train, pd.DataFrame(y_train)], axis=1).columns)\n",
    "    high_corr_features_exp_1 = list(corr_target[target].sort_values(ascending=False)[1:num_best_features+1].index)        \n",
    "    \n",
    "    df_train_tmp = x_train[high_corr_features_exp_1]\n",
    "    df_test_tmp = x_test[high_corr_features_exp_1]\n",
    "    \n",
    "    lr = LinearRegression().fit(df_train_tmp.values, y_train.values)\n",
    "    \n",
    "    y_predict_train = lr.predict(df_train_tmp.values)\n",
    "    y_predict_test = lr.predict(df_test_tmp.values)\n",
    "\n",
    "    metric_train = mean_squared_error(y_predict_train, y_train.values)\n",
    "    metric_test = mean_squared_error(y_predict_test, y_test.values)   \n",
    "    \n",
    "    df_polyn_train =  polynomial_transformations(df_train_tmp, high_corr_features_exp_1, degree=2)\n",
    "    df_polyn_test =  polynomial_transformations(df_test_tmp, high_corr_features_exp_1, degree=2)\n",
    "        \n",
    "        \n",
    "    lr = LinearRegression().fit(df_polyn_train.values, y_train.values)\n",
    "\n",
    "    y_predict_train = lr.predict(df_polyn_train.values)\n",
    "    y_predict_test = lr.predict(df_polyn_test.values)\n",
    "\n",
    "    metric_train_pol = mean_squared_error(y_predict_train, y_train.values)\n",
    "    metric_test_pol = mean_squared_error(y_predict_test, y_test.values)   \n",
    "    \n",
    "    list_metrics.append([metric_train, metric_test, metric_train_pol, metric_test_pol])    \n"
   ]
  },
  {
   "cell_type": "code",
   "execution_count": 258,
   "id": "059c7943",
   "metadata": {},
   "outputs": [
    {
     "data": {
      "text/plain": [
       "<AxesSubplot:>"
      ]
     },
     "execution_count": 258,
     "metadata": {},
     "output_type": "execute_result"
    },
    {
     "data": {
      "image/png": "[encoded data removed]",
      "text/plain": [
       "<Figure size 576x432 with 1 Axes>"
      ]
     },
     "metadata": {
      "needs_background": "light"
     },
     "output_type": "display_data"
    }
   ],
   "source": [
    "f, ax = plt.subplots(1, figsize=[8,6])\n",
    "df_metrics = pd.DataFrame(list_metrics)\n",
    "df_metrics.columns = ['Error_train', 'Error_test', 'Error_train_p', 'Error_test_p']\n",
    "# df_metrics.plot(style='-o')\n",
    "df_metrics.iloc[:,0:2].plot(style='-o', ax=ax)"
   ]
  },
  {
   "cell_type": "code",
   "execution_count": 260,
   "id": "c1dd675c",
   "metadata": {},
   "outputs": [
    {
     "data": {
      "text/plain": [
       "<AxesSubplot:>"
      ]
     },
     "execution_count": 260,
     "metadata": {},
     "output_type": "execute_result"
    },
    {
     "data": {
      "image/png": "[encoded data removed]",
      "text/plain": [
       "<Figure size 576x1440 with 5 Axes>"
      ]
     },
     "metadata": {
      "needs_background": "light"
     },
     "output_type": "display_data"
    }
   ],
   "source": [
    "f, ax = plt.subplots(5, figsize=[8,20])\n",
    "df_metrics = pd.DataFrame(list_metrics)\n",
    "df_metrics.columns = ['Error_train', 'Error_test', 'Error_train_p', 'Error_test_p']\n",
    "df_metrics.iloc[0:12,2:].plot(style='-o', ax=ax[0])\n",
    "df_metrics.iloc[12:16,2:].plot(style='-o', ax=ax[1])\n",
    "df_metrics.iloc[16:22,2:].plot(style='-o', ax=ax[2])\n",
    "df_metrics.iloc[22:24,2:].plot(style='-o', ax=ax[3])\n",
    "df_metrics.iloc[24:,2:].plot(style='-o', ax=ax[4])"
   ]
  },
  {
   "cell_type": "code",
   "execution_count": 261,
   "id": "435d26e7",
   "metadata": {},
   "outputs": [
    {
     "data": {
      "text/html": [
       "<div>\n",
       "<style scoped>\n",
       "    .dataframe tbody tr th:only-of-type {\n",
       "        vertical-align: middle;\n",
       "    }\n",
       "\n",
       "    .dataframe tbody tr th {\n",
       "        vertical-align: top;\n",
       "    }\n",
       "\n",
       "    .dataframe thead th {\n",
       "        text-align: right;\n",
       "    }\n",
       "</style>\n",
       "<table border=\"1\" class=\"dataframe\">\n",
       "  <thead>\n",
       "    <tr style=\"text-align: right;\">\n",
       "      <th></th>\n",
       "      <th>Error_train</th>\n",
       "      <th>Error_test</th>\n",
       "      <th>Error_train_p</th>\n",
       "      <th>Error_test_p</th>\n",
       "    </tr>\n",
       "  </thead>\n",
       "  <tbody>\n",
       "    <tr>\n",
       "      <th>count</th>\n",
       "      <td>3.300000e+01</td>\n",
       "      <td>3.300000e+01</td>\n",
       "      <td>3.300000e+01</td>\n",
       "      <td>3.300000e+01</td>\n",
       "    </tr>\n",
       "    <tr>\n",
       "      <th>mean</th>\n",
       "      <td>1.252916e+09</td>\n",
       "      <td>1.727268e+09</td>\n",
       "      <td>6.455685e+08</td>\n",
       "      <td>3.676502e+34</td>\n",
       "    </tr>\n",
       "    <tr>\n",
       "      <th>std</th>\n",
       "      <td>2.566485e+08</td>\n",
       "      <td>1.374560e+08</td>\n",
       "      <td>4.199248e+08</td>\n",
       "      <td>2.105051e+35</td>\n",
       "    </tr>\n",
       "    <tr>\n",
       "      <th>min</th>\n",
       "      <td>1.054955e+09</td>\n",
       "      <td>1.572204e+09</td>\n",
       "      <td>1.839173e+08</td>\n",
       "      <td>9.066706e+08</td>\n",
       "    </tr>\n",
       "    <tr>\n",
       "      <th>25%</th>\n",
       "      <td>1.126301e+09</td>\n",
       "      <td>1.658243e+09</td>\n",
       "      <td>3.053754e+08</td>\n",
       "      <td>1.568997e+09</td>\n",
       "    </tr>\n",
       "    <tr>\n",
       "      <th>50%</th>\n",
       "      <td>1.144191e+09</td>\n",
       "      <td>1.687582e+09</td>\n",
       "      <td>5.696127e+08</td>\n",
       "      <td>6.946768e+09</td>\n",
       "    </tr>\n",
       "    <tr>\n",
       "      <th>75%</th>\n",
       "      <td>1.297113e+09</td>\n",
       "      <td>1.766852e+09</td>\n",
       "      <td>8.804484e+08</td>\n",
       "      <td>1.660836e+32</td>\n",
       "    </tr>\n",
       "    <tr>\n",
       "      <th>max</th>\n",
       "      <td>2.391092e+09</td>\n",
       "      <td>2.323005e+09</td>\n",
       "      <td>2.025926e+09</td>\n",
       "      <td>1.209380e+36</td>\n",
       "    </tr>\n",
       "  </tbody>\n",
       "</table>\n",
       "</div>"
      ],
      "text/plain": [
       "        Error_train    Error_test  Error_train_p  Error_test_p\n",
       "count  3.300000e+01  3.300000e+01   3.300000e+01  3.300000e+01\n",
       "mean   1.252916e+09  1.727268e+09   6.455685e+08  3.676502e+34\n",
       "std    2.566485e+08  1.374560e+08   4.199248e+08  2.105051e+35\n",
       "min    1.054955e+09  1.572204e+09   1.839173e+08  9.066706e+08\n",
       "25%    1.126301e+09  1.658243e+09   3.053754e+08  1.568997e+09\n",
       "50%    1.144191e+09  1.687582e+09   5.696127e+08  6.946768e+09\n",
       "75%    1.297113e+09  1.766852e+09   8.804484e+08  1.660836e+32\n",
       "max    2.391092e+09  2.323005e+09   2.025926e+09  1.209380e+36"
      ]
     },
     "execution_count": 261,
     "metadata": {},
     "output_type": "execute_result"
    }
   ],
   "source": [
    "df_metrics.describe()"
   ]
  },
  {
   "cell_type": "code",
   "execution_count": 265,
   "id": "73d61de1",
   "metadata": {},
   "outputs": [
    {
     "name": "stdout",
     "output_type": "stream",
     "text": [
      "[32 32 32 10]\n",
      "[ 0  0  0 23]\n"
     ]
    }
   ],
   "source": [
    "## Which iteration were minumun\n",
    "print(np.argmin(df_metrics.values, axis=0))\n",
    "\n",
    "## Which iteration were minumun\n",
    "print(np.argmax(df_metrics.values, axis=0))"
   ]
  },
  {
   "cell_type": "code",
   "execution_count": null,
   "id": "57f563b5",
   "metadata": {},
   "outputs": [],
   "source": []
  }
 ],
 "metadata": {
  "kernelspec": {
   "display_name": "Python 3 (ipykernel)",
   "language": "python",
   "name": "python3"
  },
  "language_info": {
   "codemirror_mode": {
    "name": "ipython",
    "version": 3
   },
   "file_extension": ".py",
   "mimetype": "text/x-python",
   "name": "python",
   "nbconvert_exporter": "python",
   "pygments_lexer": "ipython3",
   "version": "3.9.12"
  }
 },
 "nbformat": 4,
 "nbformat_minor": 5
}
